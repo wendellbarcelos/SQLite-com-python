{
 "cells": [
  {
   "cell_type": "markdown",
   "metadata": {},
   "source": [
    "#### Inserindo Dados com Variáveis"
   ]
  },
  {
   "cell_type": "code",
   "execution_count": 1,
   "metadata": {},
   "outputs": [],
   "source": [
    "import sqlite3\n",
    "import random\n",
    "import time\n",
    "import datetime"
   ]
  },
  {
   "cell_type": "code",
   "execution_count": 2,
   "metadata": {},
   "outputs": [],
   "source": [
    "# Criando uma conexão\n",
    "conn = sqlite3.connect('dsa.db')\n",
    "\n",
    "# Criando um cursor\n",
    "cur = conn.cursor()"
   ]
  },
  {
   "cell_type": "code",
   "execution_count": 3,
   "metadata": {},
   "outputs": [],
   "source": [
    "# Função para criar uma tabela\n",
    "def create_table():\n",
    "    cur.execute('CREATE TABLE IF NOT EXISTS produtos(id INTEGER PRIMARY KEY AUTOINCREMENT NOT NULL, date TEXT, '\\\n",
    "                'prod_name TEXT, valor REAL)')\n",
    "    \n",
    "# Função para inserir uma linha\n",
    "def data_insert():\n",
    "    cur.execute('INSERT INTO produtos VALUES(10, \"2021-04-14 20:36:15\", \"Teclado\", 130.00)')\n",
    "    conn.commit()\n",
    "    cur.close()\n",
    "    conn.close()\n",
    "    \n",
    "# Usando variáveis para inserir dados\n",
    "def data_insert_var():\n",
    "    new_date = datetime.datetime.now()\n",
    "    new_prod_name = 'Monitor'\n",
    "    new_valor = random.randrange(50, 100)\n",
    "    cur.execute(\"INSERT INTO produtos(date, prod_name, valor) VALUES (?, ?, ?)\", (new_date, new_prod_name, new_valor))\n",
    "    conn.commit()"
   ]
  },
  {
   "cell_type": "code",
   "execution_count": 4,
   "metadata": {},
   "outputs": [],
   "source": [
    "# # Gerando valores e inserindo na tabela\n",
    "# for i in range(10):\n",
    "#     data_insert_var()\n",
    "#     time.sleep(1)"
   ]
  },
  {
   "cell_type": "code",
   "execution_count": 5,
   "metadata": {},
   "outputs": [],
   "source": [
    "# Leitura de dados\n",
    "def leitura_todos_dados():\n",
    "    cur.execute(\"SELECT * FROM PRODUTOS\")\n",
    "    for linha in cur.fetchall():\n",
    "        print(linha)\n",
    "        \n",
    "# Leitura de registros especificos\n",
    "def leitura_registros():\n",
    "    cur.execute(\"SELECT * FROM PRODUTOS WHERE valor > 80.0\")\n",
    "    for linha in cur.fetchall():\n",
    "        print(linha)\n",
    "        \n",
    "        \n",
    "# Leitura de colunas especificas\n",
    "def leitura_colunas():\n",
    "    cur.execute(\"SELECT * FROM PRODUTOS\")\n",
    "    for linha in cur.fetchall():\n",
    "        print(linha[3])\n",
    "        "
   ]
  },
  {
   "cell_type": "code",
   "execution_count": 6,
   "metadata": {},
   "outputs": [
    {
     "name": "stdout",
     "output_type": "stream",
     "text": [
      "(10, '2021-04-14 20:36:15', 'Teclado', 90.0)\n",
      "(11, '2021-04-14 21:18:23.445982', 'Monitor', 72.0)\n",
      "(12, '2021-04-14 21:18:24.462400', 'Monitor', 70.0)\n",
      "(13, '2021-04-14 21:18:25.471099', 'Monitor', 70.0)\n",
      "(14, '2021-04-14 21:18:26.511118', 'Monitor', 76.0)\n",
      "(16, '2021-04-14 21:18:28.533886', 'Monitor', 96.0)\n",
      "(18, '2021-04-14 21:18:30.564294', 'Monitor', 78.0)\n",
      "(19, '2021-04-14 21:18:31.568130', 'Monitor', 70.0)\n",
      "(20, '2021-04-14 21:18:32.568648', 'Monitor', 70.0)\n",
      "(21, '2021-04-14 21:34:51.165312', 'Monitor', 64.0)\n",
      "(23, '2021-04-14 21:34:53.214767', 'Monitor', 62.0)\n",
      "(24, '2021-04-14 21:34:54.226549', 'Monitor', 96.0)\n",
      "(25, '2021-04-14 21:34:55.249748', 'Monitor', 77.0)\n",
      "(26, '2021-04-14 21:34:56.261554', 'Monitor', 98.0)\n",
      "(27, '2021-04-14 21:34:57.286531', 'Monitor', 75.0)\n",
      "(28, '2021-04-14 21:34:58.344041', 'Monitor', 62.0)\n",
      "(29, '2021-04-14 21:34:59.351323', 'Monitor', 61.0)\n",
      "(30, '2021-04-14 21:35:00.360802', 'Monitor', 89.0)\n"
     ]
    }
   ],
   "source": [
    "# Select nos dados\n",
    "leitura_todos_dados()"
   ]
  },
  {
   "cell_type": "code",
   "execution_count": 7,
   "metadata": {},
   "outputs": [
    {
     "name": "stdout",
     "output_type": "stream",
     "text": [
      "(10, '2021-04-14 20:36:15', 'Teclado', 90.0)\n",
      "(16, '2021-04-14 21:18:28.533886', 'Monitor', 96.0)\n",
      "(24, '2021-04-14 21:34:54.226549', 'Monitor', 96.0)\n",
      "(26, '2021-04-14 21:34:56.261554', 'Monitor', 98.0)\n",
      "(30, '2021-04-14 21:35:00.360802', 'Monitor', 89.0)\n"
     ]
    }
   ],
   "source": [
    "# Leitura de registros especifico\n",
    "leitura_registros()"
   ]
  },
  {
   "cell_type": "code",
   "execution_count": 8,
   "metadata": {},
   "outputs": [
    {
     "name": "stdout",
     "output_type": "stream",
     "text": [
      "90.0\n",
      "72.0\n",
      "70.0\n",
      "70.0\n",
      "76.0\n",
      "96.0\n",
      "78.0\n",
      "70.0\n",
      "70.0\n",
      "64.0\n",
      "62.0\n",
      "96.0\n",
      "77.0\n",
      "98.0\n",
      "75.0\n",
      "62.0\n",
      "61.0\n",
      "89.0\n"
     ]
    }
   ],
   "source": [
    "# Leitura de colunas especificas\n",
    "leitura_colunas()"
   ]
  },
  {
   "cell_type": "code",
   "execution_count": 9,
   "metadata": {},
   "outputs": [],
   "source": [
    "# Encerrando a conexão\n",
    "cur.close()\n",
    "conn.close()"
   ]
  },
  {
   "cell_type": "code",
   "execution_count": null,
   "metadata": {},
   "outputs": [],
   "source": []
  },
  {
   "cell_type": "code",
   "execution_count": null,
   "metadata": {},
   "outputs": [],
   "source": []
  }
 ],
 "metadata": {
  "kernelspec": {
   "display_name": "Python 3",
   "language": "python",
   "name": "python3"
  },
  "language_info": {
   "codemirror_mode": {
    "name": "ipython",
    "version": 3
   },
   "file_extension": ".py",
   "mimetype": "text/x-python",
   "name": "python",
   "nbconvert_exporter": "python",
   "pygments_lexer": "ipython3",
   "version": "3.8.5"
  }
 },
 "nbformat": 4,
 "nbformat_minor": 4
}
